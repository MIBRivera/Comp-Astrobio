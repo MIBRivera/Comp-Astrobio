{
 "cells": [
  {
   "cell_type": "markdown",
   "id": "2cfc3e75",
   "metadata": {},
   "source": [
    "# Tutorial 4 - MIBR\n",
    "\n",
    "## Artificial Neural Networks"
   ]
  },
  {
   "cell_type": "markdown",
   "id": "f2d5a904",
   "metadata": {},
   "source": [
    "Import and initialize"
   ]
  },
  {
   "cell_type": "code",
   "execution_count": 1,
   "id": "ec1de8ce",
   "metadata": {},
   "outputs": [],
   "source": [
    "import os\n",
    "import warnings\n",
    "import math\n",
    "warnings.filterwarnings('ignore')\n",
    "import numpy as np\n",
    "import pandas as pd\n",
    "import matplotlib.pyplot as plt\n",
    "plt.style.use('seaborn-colorblind')\n",
    "from pylab import rcParams\n",
    "rcParams['figure.figsize'] = 10, 6\n",
    "from sklearn.metrics import mean_squared_error, mean_absolute_error\n",
    "from imblearn.combine import SMOTEENN\n",
    "from sklearn.model_selection import train_test_split \n",
    "from sklearn import linear_model\n",
    "from sklearn.metrics import recall_score, classification_report, precision_score, confusion_matrix, auc, accuracy_score, precision_recall_curve, roc_curve\n",
    "from sklearn.preprocessing import StandardScaler, normalize\n",
    "from scipy import ndimage\n",
    "import seaborn as sns"
   ]
  },
  {
   "cell_type": "markdown",
   "id": "cba8b4eb",
   "metadata": {},
   "source": [
    "Import data and convert as Pandas DataFrame"
   ]
  },
  {
   "cell_type": "code",
   "execution_count": 2,
   "id": "11ea121f",
   "metadata": {},
   "outputs": [],
   "source": [
    "test_data = pd.read_csv('exoTest.csv').fillna(0)\n",
    "train_data = pd.read_csv('exoTrain.csv').fillna(0)"
   ]
  },
  {
   "cell_type": "code",
   "execution_count": 3,
   "id": "deb5f3d5",
   "metadata": {
    "scrolled": true
   },
   "outputs": [
    {
     "data": {
      "text/html": [
       "<div>\n",
       "<style scoped>\n",
       "    .dataframe tbody tr th:only-of-type {\n",
       "        vertical-align: middle;\n",
       "    }\n",
       "\n",
       "    .dataframe tbody tr th {\n",
       "        vertical-align: top;\n",
       "    }\n",
       "\n",
       "    .dataframe thead th {\n",
       "        text-align: right;\n",
       "    }\n",
       "</style>\n",
       "<table border=\"1\" class=\"dataframe\">\n",
       "  <thead>\n",
       "    <tr style=\"text-align: right;\">\n",
       "      <th></th>\n",
       "      <th>LABEL</th>\n",
       "      <th>FLUX.1</th>\n",
       "      <th>FLUX.2</th>\n",
       "      <th>FLUX.3</th>\n",
       "      <th>FLUX.4</th>\n",
       "      <th>FLUX.5</th>\n",
       "      <th>FLUX.6</th>\n",
       "      <th>FLUX.7</th>\n",
       "      <th>FLUX.8</th>\n",
       "      <th>FLUX.9</th>\n",
       "      <th>...</th>\n",
       "      <th>FLUX.3188</th>\n",
       "      <th>FLUX.3189</th>\n",
       "      <th>FLUX.3190</th>\n",
       "      <th>FLUX.3191</th>\n",
       "      <th>FLUX.3192</th>\n",
       "      <th>FLUX.3193</th>\n",
       "      <th>FLUX.3194</th>\n",
       "      <th>FLUX.3195</th>\n",
       "      <th>FLUX.3196</th>\n",
       "      <th>FLUX.3197</th>\n",
       "    </tr>\n",
       "  </thead>\n",
       "  <tbody>\n",
       "    <tr>\n",
       "      <th>0</th>\n",
       "      <td>2</td>\n",
       "      <td>119.88</td>\n",
       "      <td>100.21</td>\n",
       "      <td>86.46</td>\n",
       "      <td>48.68</td>\n",
       "      <td>46.12</td>\n",
       "      <td>39.39</td>\n",
       "      <td>18.57</td>\n",
       "      <td>6.98</td>\n",
       "      <td>6.63</td>\n",
       "      <td>...</td>\n",
       "      <td>14.52</td>\n",
       "      <td>19.29</td>\n",
       "      <td>14.44</td>\n",
       "      <td>-1.62</td>\n",
       "      <td>13.33</td>\n",
       "      <td>45.50</td>\n",
       "      <td>31.93</td>\n",
       "      <td>35.78</td>\n",
       "      <td>269.43</td>\n",
       "      <td>57.72</td>\n",
       "    </tr>\n",
       "    <tr>\n",
       "      <th>1</th>\n",
       "      <td>2</td>\n",
       "      <td>5736.59</td>\n",
       "      <td>5699.98</td>\n",
       "      <td>5717.16</td>\n",
       "      <td>5692.73</td>\n",
       "      <td>5663.83</td>\n",
       "      <td>5631.16</td>\n",
       "      <td>5626.39</td>\n",
       "      <td>5569.47</td>\n",
       "      <td>5550.44</td>\n",
       "      <td>...</td>\n",
       "      <td>-581.91</td>\n",
       "      <td>-984.09</td>\n",
       "      <td>-1230.89</td>\n",
       "      <td>-1600.45</td>\n",
       "      <td>-1824.53</td>\n",
       "      <td>-2061.17</td>\n",
       "      <td>-2265.98</td>\n",
       "      <td>-2366.19</td>\n",
       "      <td>-2294.86</td>\n",
       "      <td>-2034.72</td>\n",
       "    </tr>\n",
       "    <tr>\n",
       "      <th>2</th>\n",
       "      <td>2</td>\n",
       "      <td>844.48</td>\n",
       "      <td>817.49</td>\n",
       "      <td>770.07</td>\n",
       "      <td>675.01</td>\n",
       "      <td>605.52</td>\n",
       "      <td>499.45</td>\n",
       "      <td>440.77</td>\n",
       "      <td>362.95</td>\n",
       "      <td>207.27</td>\n",
       "      <td>...</td>\n",
       "      <td>17.82</td>\n",
       "      <td>-51.66</td>\n",
       "      <td>-48.29</td>\n",
       "      <td>-59.99</td>\n",
       "      <td>-82.10</td>\n",
       "      <td>-174.54</td>\n",
       "      <td>-95.23</td>\n",
       "      <td>-162.68</td>\n",
       "      <td>-36.79</td>\n",
       "      <td>30.63</td>\n",
       "    </tr>\n",
       "    <tr>\n",
       "      <th>3</th>\n",
       "      <td>2</td>\n",
       "      <td>-826.00</td>\n",
       "      <td>-827.31</td>\n",
       "      <td>-846.12</td>\n",
       "      <td>-836.03</td>\n",
       "      <td>-745.50</td>\n",
       "      <td>-784.69</td>\n",
       "      <td>-791.22</td>\n",
       "      <td>-746.50</td>\n",
       "      <td>-709.53</td>\n",
       "      <td>...</td>\n",
       "      <td>122.34</td>\n",
       "      <td>93.03</td>\n",
       "      <td>93.03</td>\n",
       "      <td>68.81</td>\n",
       "      <td>9.81</td>\n",
       "      <td>20.75</td>\n",
       "      <td>20.25</td>\n",
       "      <td>-120.81</td>\n",
       "      <td>-257.56</td>\n",
       "      <td>-215.41</td>\n",
       "    </tr>\n",
       "    <tr>\n",
       "      <th>4</th>\n",
       "      <td>2</td>\n",
       "      <td>-39.57</td>\n",
       "      <td>-15.88</td>\n",
       "      <td>-9.16</td>\n",
       "      <td>-6.37</td>\n",
       "      <td>-16.13</td>\n",
       "      <td>-24.05</td>\n",
       "      <td>-0.90</td>\n",
       "      <td>-45.20</td>\n",
       "      <td>-5.04</td>\n",
       "      <td>...</td>\n",
       "      <td>-37.87</td>\n",
       "      <td>-61.85</td>\n",
       "      <td>-27.15</td>\n",
       "      <td>-21.18</td>\n",
       "      <td>-33.76</td>\n",
       "      <td>-85.34</td>\n",
       "      <td>-81.46</td>\n",
       "      <td>-61.98</td>\n",
       "      <td>-69.34</td>\n",
       "      <td>-17.84</td>\n",
       "    </tr>\n",
       "  </tbody>\n",
       "</table>\n",
       "<p>5 rows × 3198 columns</p>\n",
       "</div>"
      ],
      "text/plain": [
       "   LABEL   FLUX.1   FLUX.2   FLUX.3   FLUX.4   FLUX.5   FLUX.6   FLUX.7  \\\n",
       "0      2   119.88   100.21    86.46    48.68    46.12    39.39    18.57   \n",
       "1      2  5736.59  5699.98  5717.16  5692.73  5663.83  5631.16  5626.39   \n",
       "2      2   844.48   817.49   770.07   675.01   605.52   499.45   440.77   \n",
       "3      2  -826.00  -827.31  -846.12  -836.03  -745.50  -784.69  -791.22   \n",
       "4      2   -39.57   -15.88    -9.16    -6.37   -16.13   -24.05    -0.90   \n",
       "\n",
       "    FLUX.8   FLUX.9  ...  FLUX.3188  FLUX.3189  FLUX.3190  FLUX.3191  \\\n",
       "0     6.98     6.63  ...      14.52      19.29      14.44      -1.62   \n",
       "1  5569.47  5550.44  ...    -581.91    -984.09   -1230.89   -1600.45   \n",
       "2   362.95   207.27  ...      17.82     -51.66     -48.29     -59.99   \n",
       "3  -746.50  -709.53  ...     122.34      93.03      93.03      68.81   \n",
       "4   -45.20    -5.04  ...     -37.87     -61.85     -27.15     -21.18   \n",
       "\n",
       "   FLUX.3192  FLUX.3193  FLUX.3194  FLUX.3195  FLUX.3196  FLUX.3197  \n",
       "0      13.33      45.50      31.93      35.78     269.43      57.72  \n",
       "1   -1824.53   -2061.17   -2265.98   -2366.19   -2294.86   -2034.72  \n",
       "2     -82.10    -174.54     -95.23    -162.68     -36.79      30.63  \n",
       "3       9.81      20.75      20.25    -120.81    -257.56    -215.41  \n",
       "4     -33.76     -85.34     -81.46     -61.98     -69.34     -17.84  \n",
       "\n",
       "[5 rows x 3198 columns]"
      ]
     },
     "execution_count": 3,
     "metadata": {},
     "output_type": "execute_result"
    }
   ],
   "source": [
    "test_data.head()"
   ]
  },
  {
   "cell_type": "code",
   "execution_count": 4,
   "id": "f6ae637a",
   "metadata": {
    "scrolled": true
   },
   "outputs": [
    {
     "data": {
      "text/html": [
       "<div>\n",
       "<style scoped>\n",
       "    .dataframe tbody tr th:only-of-type {\n",
       "        vertical-align: middle;\n",
       "    }\n",
       "\n",
       "    .dataframe tbody tr th {\n",
       "        vertical-align: top;\n",
       "    }\n",
       "\n",
       "    .dataframe thead th {\n",
       "        text-align: right;\n",
       "    }\n",
       "</style>\n",
       "<table border=\"1\" class=\"dataframe\">\n",
       "  <thead>\n",
       "    <tr style=\"text-align: right;\">\n",
       "      <th></th>\n",
       "      <th>LABEL</th>\n",
       "      <th>FLUX.1</th>\n",
       "      <th>FLUX.2</th>\n",
       "      <th>FLUX.3</th>\n",
       "      <th>FLUX.4</th>\n",
       "      <th>FLUX.5</th>\n",
       "      <th>FLUX.6</th>\n",
       "      <th>FLUX.7</th>\n",
       "      <th>FLUX.8</th>\n",
       "      <th>FLUX.9</th>\n",
       "      <th>...</th>\n",
       "      <th>FLUX.3188</th>\n",
       "      <th>FLUX.3189</th>\n",
       "      <th>FLUX.3190</th>\n",
       "      <th>FLUX.3191</th>\n",
       "      <th>FLUX.3192</th>\n",
       "      <th>FLUX.3193</th>\n",
       "      <th>FLUX.3194</th>\n",
       "      <th>FLUX.3195</th>\n",
       "      <th>FLUX.3196</th>\n",
       "      <th>FLUX.3197</th>\n",
       "    </tr>\n",
       "  </thead>\n",
       "  <tbody>\n",
       "    <tr>\n",
       "      <th>0</th>\n",
       "      <td>2</td>\n",
       "      <td>93.85</td>\n",
       "      <td>83.81</td>\n",
       "      <td>20.10</td>\n",
       "      <td>-26.98</td>\n",
       "      <td>-39.56</td>\n",
       "      <td>-124.71</td>\n",
       "      <td>-135.18</td>\n",
       "      <td>-96.27</td>\n",
       "      <td>-79.89</td>\n",
       "      <td>...</td>\n",
       "      <td>-78.07</td>\n",
       "      <td>-102.15</td>\n",
       "      <td>-102.15</td>\n",
       "      <td>25.13</td>\n",
       "      <td>48.57</td>\n",
       "      <td>92.54</td>\n",
       "      <td>39.32</td>\n",
       "      <td>61.42</td>\n",
       "      <td>5.08</td>\n",
       "      <td>-39.54</td>\n",
       "    </tr>\n",
       "    <tr>\n",
       "      <th>1</th>\n",
       "      <td>2</td>\n",
       "      <td>-38.88</td>\n",
       "      <td>-33.83</td>\n",
       "      <td>-58.54</td>\n",
       "      <td>-40.09</td>\n",
       "      <td>-79.31</td>\n",
       "      <td>-72.81</td>\n",
       "      <td>-86.55</td>\n",
       "      <td>-85.33</td>\n",
       "      <td>-83.97</td>\n",
       "      <td>...</td>\n",
       "      <td>-3.28</td>\n",
       "      <td>-32.21</td>\n",
       "      <td>-32.21</td>\n",
       "      <td>-24.89</td>\n",
       "      <td>-4.86</td>\n",
       "      <td>0.76</td>\n",
       "      <td>-11.70</td>\n",
       "      <td>6.46</td>\n",
       "      <td>16.00</td>\n",
       "      <td>19.93</td>\n",
       "    </tr>\n",
       "    <tr>\n",
       "      <th>2</th>\n",
       "      <td>2</td>\n",
       "      <td>532.64</td>\n",
       "      <td>535.92</td>\n",
       "      <td>513.73</td>\n",
       "      <td>496.92</td>\n",
       "      <td>456.45</td>\n",
       "      <td>466.00</td>\n",
       "      <td>464.50</td>\n",
       "      <td>486.39</td>\n",
       "      <td>436.56</td>\n",
       "      <td>...</td>\n",
       "      <td>-71.69</td>\n",
       "      <td>13.31</td>\n",
       "      <td>13.31</td>\n",
       "      <td>-29.89</td>\n",
       "      <td>-20.88</td>\n",
       "      <td>5.06</td>\n",
       "      <td>-11.80</td>\n",
       "      <td>-28.91</td>\n",
       "      <td>-70.02</td>\n",
       "      <td>-96.67</td>\n",
       "    </tr>\n",
       "    <tr>\n",
       "      <th>3</th>\n",
       "      <td>2</td>\n",
       "      <td>326.52</td>\n",
       "      <td>347.39</td>\n",
       "      <td>302.35</td>\n",
       "      <td>298.13</td>\n",
       "      <td>317.74</td>\n",
       "      <td>312.70</td>\n",
       "      <td>322.33</td>\n",
       "      <td>311.31</td>\n",
       "      <td>312.42</td>\n",
       "      <td>...</td>\n",
       "      <td>5.71</td>\n",
       "      <td>-3.73</td>\n",
       "      <td>-3.73</td>\n",
       "      <td>30.05</td>\n",
       "      <td>20.03</td>\n",
       "      <td>-12.67</td>\n",
       "      <td>-8.77</td>\n",
       "      <td>-17.31</td>\n",
       "      <td>-17.35</td>\n",
       "      <td>13.98</td>\n",
       "    </tr>\n",
       "    <tr>\n",
       "      <th>4</th>\n",
       "      <td>2</td>\n",
       "      <td>-1107.21</td>\n",
       "      <td>-1112.59</td>\n",
       "      <td>-1118.95</td>\n",
       "      <td>-1095.10</td>\n",
       "      <td>-1057.55</td>\n",
       "      <td>-1034.48</td>\n",
       "      <td>-998.34</td>\n",
       "      <td>-1022.71</td>\n",
       "      <td>-989.57</td>\n",
       "      <td>...</td>\n",
       "      <td>-594.37</td>\n",
       "      <td>-401.66</td>\n",
       "      <td>-401.66</td>\n",
       "      <td>-357.24</td>\n",
       "      <td>-443.76</td>\n",
       "      <td>-438.54</td>\n",
       "      <td>-399.71</td>\n",
       "      <td>-384.65</td>\n",
       "      <td>-411.79</td>\n",
       "      <td>-510.54</td>\n",
       "    </tr>\n",
       "  </tbody>\n",
       "</table>\n",
       "<p>5 rows × 3198 columns</p>\n",
       "</div>"
      ],
      "text/plain": [
       "   LABEL   FLUX.1   FLUX.2   FLUX.3   FLUX.4   FLUX.5   FLUX.6  FLUX.7  \\\n",
       "0      2    93.85    83.81    20.10   -26.98   -39.56  -124.71 -135.18   \n",
       "1      2   -38.88   -33.83   -58.54   -40.09   -79.31   -72.81  -86.55   \n",
       "2      2   532.64   535.92   513.73   496.92   456.45   466.00  464.50   \n",
       "3      2   326.52   347.39   302.35   298.13   317.74   312.70  322.33   \n",
       "4      2 -1107.21 -1112.59 -1118.95 -1095.10 -1057.55 -1034.48 -998.34   \n",
       "\n",
       "    FLUX.8  FLUX.9  ...  FLUX.3188  FLUX.3189  FLUX.3190  FLUX.3191  \\\n",
       "0   -96.27  -79.89  ...     -78.07    -102.15    -102.15      25.13   \n",
       "1   -85.33  -83.97  ...      -3.28     -32.21     -32.21     -24.89   \n",
       "2   486.39  436.56  ...     -71.69      13.31      13.31     -29.89   \n",
       "3   311.31  312.42  ...       5.71      -3.73      -3.73      30.05   \n",
       "4 -1022.71 -989.57  ...    -594.37    -401.66    -401.66    -357.24   \n",
       "\n",
       "   FLUX.3192  FLUX.3193  FLUX.3194  FLUX.3195  FLUX.3196  FLUX.3197  \n",
       "0      48.57      92.54      39.32      61.42       5.08     -39.54  \n",
       "1      -4.86       0.76     -11.70       6.46      16.00      19.93  \n",
       "2     -20.88       5.06     -11.80     -28.91     -70.02     -96.67  \n",
       "3      20.03     -12.67      -8.77     -17.31     -17.35      13.98  \n",
       "4    -443.76    -438.54    -399.71    -384.65    -411.79    -510.54  \n",
       "\n",
       "[5 rows x 3198 columns]"
      ]
     },
     "execution_count": 4,
     "metadata": {},
     "output_type": "execute_result"
    }
   ],
   "source": [
    "train_data.head()"
   ]
  },
  {
   "cell_type": "markdown",
   "id": "70a3963b",
   "metadata": {},
   "source": [
    "Data preprocessing (converting `LABEL` to binary and reducing memory)"
   ]
  },
  {
   "cell_type": "code",
   "execution_count": 5,
   "id": "f5e6f4eb",
   "metadata": {},
   "outputs": [
    {
     "name": "stdout",
     "output_type": "stream",
     "text": [
      "Memory usage of dataframe is 13.91 MB\n",
      "Memory usage after optimization is: 6.25 MB\n",
      "Decreased by 55.1%\n",
      "Memory usage of dataframe is 124.12 MB\n",
      "Memory usage after optimization is: 62.04 MB\n",
      "Decreased by 50.0%\n"
     ]
    }
   ],
   "source": [
    "categ = {2: 1,1: 0}\n",
    "train_data.LABEL = [categ[item] for item in train_data.LABEL]\n",
    "test_data.LABEL = [categ[item] for item in test_data.LABEL]\n",
    "\n",
    "#Reduce memory\n",
    "def reduce_memory(df):\n",
    "    \"\"\" iterate through all the columns of a dataframe and modify the data type\n",
    "        to reduce memory usage.        \n",
    "    \"\"\"\n",
    "    start_mem = df.memory_usage().sum() / 1024**2\n",
    "    print('Memory usage of dataframe is {:.2f} MB'.format(start_mem))\n",
    "    \n",
    "    for col in df.columns:\n",
    "        col_type = df[col].dtype\n",
    "        \n",
    "        if col_type != object:\n",
    "            c_min = df[col].min()\n",
    "            c_max = df[col].max()\n",
    "            if str(col_type)[:3] == 'int':\n",
    "                if c_min > np.iinfo(np.int8).min and c_max < np.iinfo(np.int8).max:\n",
    "                    df[col] = df[col].astype(np.int8)\n",
    "                elif c_min > np.iinfo(np.int16).min and c_max < np.iinfo(np.int16).max:\n",
    "                    df[col] = df[col].astype(np.int16)\n",
    "                elif c_min > np.iinfo(np.int32).min and c_max < np.iinfo(np.int32).max:\n",
    "                    df[col] = df[col].astype(np.int32)\n",
    "                elif c_min > np.iinfo(np.int64).min and c_max < np.iinfo(np.int64).max:\n",
    "                    df[col] = df[col].astype(np.int64)  \n",
    "            else:\n",
    "                if c_min > np.finfo(np.float16).min and c_max < np.finfo(np.float16).max:\n",
    "                    df[col] = df[col].astype(np.float16)\n",
    "                elif c_min > np.finfo(np.float32).min and c_max < np.finfo(np.float32).max:\n",
    "                    df[col] = df[col].astype(np.float32)\n",
    "                else:\n",
    "                    df[col] = df[col].astype(np.float64)\n",
    "        else:\n",
    "            df[col] = df[col].astype('category')\n",
    "\n",
    "    end_mem = df.memory_usage().sum() / 1024**2\n",
    "    print('Memory usage after optimization is: {:.2f} MB'.format(end_mem))\n",
    "    print('Decreased by {:.1f}%'.format(100 * (start_mem - end_mem) / start_mem))\n",
    "    return df\n",
    "\n",
    "test_data = reduce_memory(test_data)\n",
    "train_data = reduce_memory(train_data)"
   ]
  },
  {
   "cell_type": "markdown",
   "id": "d8fd3921",
   "metadata": {},
   "source": [
    "More data processing: splitting and normalizing the data"
   ]
  },
  {
   "cell_type": "code",
   "execution_count": 6,
   "id": "602ee96b",
   "metadata": {},
   "outputs": [],
   "source": [
    "#splitting the data\n",
    "x_train = train_data.drop([\"LABEL\"],axis=1)\n",
    "y_train = train_data[\"LABEL\"]   \n",
    "x_test = test_data.drop([\"LABEL\"],axis=1)\n",
    "y_test = test_data[\"LABEL\"]\n",
    "\n",
    "#Normalizing the data\n",
    "x_train = normalized = normalize(x_train)\n",
    "x_test = normalize(x_test)"
   ]
  },
  {
   "cell_type": "markdown",
   "id": "66d3453b",
   "metadata": {},
   "source": [
    "Even more data processing: Applying Gaussian filter and scaling the features so that we don't worry about fluxes that are out of scale."
   ]
  },
  {
   "cell_type": "code",
   "execution_count": 7,
   "id": "f662e783",
   "metadata": {},
   "outputs": [],
   "source": [
    "# Applying of gaussian filter\n",
    "x_train = filtered = ndimage.filters.gaussian_filter(x_train, sigma=10)\n",
    "x_test = ndimage.filters.gaussian_filter(x_test, sigma=10)\n",
    "\n",
    "# Feature scaling -- after applying Gaussian filters, \n",
    "# make the Gaussian data have mean of 0 and variance of 1\n",
    "std_scaler = StandardScaler()\n",
    "x_train = scaled = std_scaler.fit_transform(x_train)\n",
    "x_test = std_scaler.fit_transform(x_test)"
   ]
  },
  {
   "cell_type": "markdown",
   "id": "9ae40dc5",
   "metadata": {},
   "source": [
    "Now to apply PCA so that we only use a fraction of the stars that will have the most effect on copying the dataset's variance."
   ]
  },
  {
   "cell_type": "code",
   "execution_count": 13,
   "id": "8168082f",
   "metadata": {},
   "outputs": [
    {
     "name": "stdout",
     "output_type": "stream",
     "text": [
      "29\n"
     ]
    },
    {
     "data": {
      "image/png": "[encoded data removed]",
      "text/plain": [
       "<Figure size 1000x600 with 1 Axes>"
      ]
     },
     "metadata": {},
     "output_type": "display_data"
    },
    {
     "data": {
      "text/plain": [
       "RangeIndex(start=0, stop=37, step=1)"
      ]
     },
     "execution_count": 13,
     "metadata": {},
     "output_type": "execute_result"
    },
    {
     "data": {
      "image/png": "[encoded data removed]",
      "text/plain": [
       "<Figure size 1500x800 with 2 Axes>"
      ]
     },
     "metadata": {},
     "output_type": "display_data"
    }
   ],
   "source": [
    "#Dimensionality reduction\n",
    "from sklearn.decomposition import PCA\n",
    "pca = PCA() \n",
    "X_train = pca.fit_transform(x_train)\n",
    "X_test = pca.transform(x_test)\n",
    "total=sum(pca.explained_variance_)\n",
    "k=0\n",
    "current_variance=0\n",
    "while current_variance/total < 0.95:\n",
    "    current_variance += pca.explained_variance_[k]\n",
    "    k=k+1\n",
    "print(k)\n",
    "    \n",
    "\"\"\"\n",
    "This plot tells us that selecting 35 components we can preserve something around 98.8% or 99% \n",
    "of the total variance of the data. It makes sense, we’ll not use 100% of our variance,\n",
    "because it denotes all components, and we want only the principal ones.\n",
    "\"\"\"\n",
    "\n",
    "#Apply PCA with n_componenets\n",
    "pca = PCA(n_components=37)\n",
    "x_train = pca.fit_transform(x_train)\n",
    "x_test = pca.transform(x_test)\n",
    "plt.figure()\n",
    "plt.plot(np.cumsum(pca.explained_variance_ratio_))\n",
    "plt.axhline(y=0.95, ls='--', c='k', lw=3)\n",
    "plt.xlabel('Number of Components')\n",
    "plt.ylabel('Variance (%)') #for each component\n",
    "plt.title('Exoplanet Dataset Explained Variance')\n",
    "plt.grid()\n",
    "plt.show()\n",
    "        \n",
    "df = pd.DataFrame.from_records(x_train)     \n",
    "corr = df.corr(method='kendall')\n",
    "plt.figure(figsize=(15,8))\n",
    "sns.heatmap(corr, annot=False, cmap='plasma')\n",
    "df.columns"
   ]
  },
  {
   "cell_type": "markdown",
   "id": "4321eb5d",
   "metadata": {},
   "source": [
    "In order to balance the dataset, we combine over- and under-sampling using the `imblearn` package's `SMOTEENN`, or \"Synthetic Minority Oversampling TEchnqiue - Edited Nearest Neighbors\". Here is a [sample](https://imbalanced-learn.org/stable/combine.html#combine) from their website."
   ]
  },
  {
   "cell_type": "code",
   "execution_count": 14,
   "id": "11d0fef0",
   "metadata": {
    "scrolled": true
   },
   "outputs": [
    {
     "name": "stdout",
     "output_type": "stream",
     "text": [
      "Before OverSampling, counts of label '1': 37\n",
      "Before OverSampling, counts of label '0': 5050 \n",
      "\n",
      "After OverSampling, counts of label '1': 5050\n",
      "After OverSampling, counts of label '0': 5049\n"
     ]
    }
   ],
   "source": [
    "#Resampling as the data is highly unbalanced.\n",
    "print(\"Before OverSampling, counts of label '1': {}\".format(sum(y_train==1)))\n",
    "print(\"Before OverSampling, counts of label '0': {} \\n\".format(sum(y_train==0)))\n",
    "\n",
    "sm = SMOTEENN(random_state=27, sampling_strategy = 1.0, n_jobs=-1)\n",
    "x_train_res, y_train_res = sm.fit_resample(x_train, y_train.ravel()) \n",
    "\n",
    "print(\"After OverSampling, counts of label '1': {}\".format(sum(y_train_res==1)))\n",
    "print(\"After OverSampling, counts of label '0': {}\".format(sum(y_train_res==0)))"
   ]
  },
  {
   "cell_type": "markdown",
   "id": "f3ab7dec",
   "metadata": {},
   "source": [
    "We then use `GridSearchCV` from `skl.model_selection` in order to get the architecture that would yield the most accurate score. This function does the 5-fold stratification (default) on the training dataset in order to calculate the average cross-validation estimate. In our case, we vary the optimizer of the model, the kernel initializer, and the number of epochs and batches. It took about 35 minutes to run this cell, so we just use its result."
   ]
  },
  {
   "cell_type": "code",
   "execution_count": null,
   "id": "f87c4c1a",
   "metadata": {},
   "outputs": [],
   "source": [
    "from sklearn.model_selection import GridSearchCV\n",
    "import time\n",
    "\n",
    "def create_model(optimizer='adam', init='uniform'):\n",
    "    # create model\n",
    "    model = Sequential()\n",
    "    model.add(Dense(4, input_dim=x_train_res.shape[1], kernel_initializer=init, activation='relu'))\n",
    "    model.add(Dense(4, kernel_initializer=init, activation='relu'))\n",
    "    model.add(Dense(1, kernel_initializer=init, activation='sigmoid'))\n",
    "    # Compile model\n",
    "    model.compile(loss='binary_crossentropy', optimizer=optimizer, metrics=['accuracy'])\n",
    "    return model\n",
    "\n",
    "# create model\n",
    "gridtrial = KerasClassifier(model=create_model, verbose=0)\n",
    "print(gridtrial.get_params().keys())\n",
    "\n",
    "# grid search epochs, batch size, kernel initializer, and optimizer\n",
    "optimizers = ['rmsprop', 'adam']\n",
    "init = ['glorot_uniform', 'normal', 'uniform']\n",
    "epochs = [10, 20, 40]\n",
    "batches = [5, 10, 20]\n",
    "\n",
    "param_grid = dict(optimizer=optimizers, epochs=epochs, batch_size=batches, model__init=init)\n",
    "\n",
    "tic = time.time()\n",
    "grid = GridSearchCV(estimator=gridtrial, param_grid=param_grid, n_jobs=-1)\n",
    "grid_result = grid.fit(x_train_res, y_train_res)\n",
    "\n",
    "# summarize results\n",
    "print(\"Best: %f using %s\" % (grid_result.best_score_, grid_result.best_params_))\n",
    "means = grid_result.cv_results_['mean_test_score']\n",
    "stds = grid_result.cv_results_['std_test_score']\n",
    "params = grid_result.cv_results_['params']\n",
    "for mean, stdev, param in zip(means, stds, params):\n",
    "    print(\"%f (%f) with: %r\" % (mean, stdev, param))\n",
    "    \n",
    "toc = time.time()\n",
    "print(\"Elapsed time:\", toc-tic)"
   ]
  },
  {
   "cell_type": "markdown",
   "id": "56d246aa",
   "metadata": {},
   "source": [
    "We see from the result that the combination of parameters that give the most accurate result is `{'batch_size': 5, 'epochs': 10, 'model__init': 'glorot_uniform', 'optimizer': 'rmsprop'}`. We then apply this below to get the accuracy scores via `skl.model_selection.cross_val_score`.\n",
    "\n",
    "Here, `glorot_uniform` \"draws samples from a uniform distribution within [-limit, limit], where limit = sqrt(6 / (fan_in + fan_out)) (fan_in is the number of input units in the weight tensor and fan_out is the number of output units).\" -- [TensorFlow docs](https://www.tensorflow.org/api_docs/python/tf/keras/initializers/GlorotUniform)\n",
    "\n",
    "While \"the gist of RMSprop is to: Maintain a moving (discounted) average of the square of gradients, Divide the gradient by the root of this average. This implementation of RMSprop uses plain momentum, not Nesterov momentum. The centered version additionally maintains a moving average of the gradients, and uses that average to estimate the variance.\" -- [TensorFlow docs](https://www.tensorflow.org/api_docs/python/tf/keras/optimizers/experimental/RMSprop)"
   ]
  },
  {
   "cell_type": "code",
   "execution_count": 15,
   "id": "4245ba19",
   "metadata": {
    "scrolled": true
   },
   "outputs": [
    {
     "name": "stdout",
     "output_type": "stream",
     "text": [
      "Accuracy mean: 0.9770290164231877\n",
      "Accuracy variance: 0.01606395704565923\n"
     ]
    }
   ],
   "source": [
    "#Artificial Neural Network\n",
    "from tensorflow.random import set_seed\n",
    "set_seed(42)\n",
    "\n",
    "from sklearn.model_selection import cross_val_score\n",
    "from scikeras.wrappers import KerasClassifier\n",
    "from keras.models import Sequential # initialize neural network library\n",
    "from keras.layers import Dense # build our layers library\n",
    "\n",
    "def build_classifier():\n",
    "    classifier = Sequential() # initialize neural network, a Sequential API\n",
    "    classifier.add(Dense(units = 4, kernel_initializer = 'glorot_uniform', activation = 'relu', input_dim = x_train_res.shape[1]))\n",
    "    classifier.add(Dense(units = 4, kernel_initializer = 'glorot_uniform', activation = 'relu'))\n",
    "    classifier.add(Dense(units = 1, kernel_initializer = 'glorot_uniform', activation = 'sigmoid'))\n",
    "    classifier.compile(optimizer = 'rmsprop', loss = 'binary_crossentropy', metrics = ['accuracy'])\n",
    "    return classifier\n",
    "\n",
    "classifier = KerasClassifier(model = build_classifier, epochs = 10, batch_size=5)\n",
    "accuracies = cross_val_score(estimator = classifier, X = x_train_res, y = y_train_res, cv = 5, n_jobs = -1)\n",
    "mean = accuracies.mean()\n",
    "variance = accuracies.std()\n",
    "print(\"Accuracy mean: \"+ str(mean))\n",
    "print(\"Accuracy variance: \"+ str(variance))\n",
    "\n",
    "#Accuracy mean: 0.7791307791307792\n",
    "#Accuracy variance: 0.26064381617895693\n",
    "\n",
    "# Accuracy mean for sigmoid last layer: 0.9172277212142944\n",
    "# Accuracy variance for sigmoid last layer: 0.08991406942298877\n",
    "\n",
    "# Accuracy mean for softmax last layer: 0.49999999925494193\n",
    "# Accuracy variance for softmax last layer: 0.44325030881539623"
   ]
  },
  {
   "cell_type": "code",
   "execution_count": null,
   "id": "1bfeb94e",
   "metadata": {
    "scrolled": true
   },
   "outputs": [],
   "source": [
    "# train_res = pd.DataFrame(np.append(np.atleast_2d(y_train_res).T, x_train_res, axis=1))\n",
    "# train_res = train_res.sample(frac=1, random_state=42).reset_index(drop=True)\n",
    "# train_res.head()"
   ]
  },
  {
   "cell_type": "code",
   "execution_count": null,
   "id": "84f0b936",
   "metadata": {},
   "outputs": [],
   "source": [
    "# fluxes = [i for i in range(1,38)]\n",
    "# labels = [0]\n",
    "# x_train_res_val = train_res[fluxes].values[-1000:,:]\n",
    "# y_train_res_val = train_res[labels].values[-1000:,:]\n",
    "# x_train_res = train_res[fluxes].values[:-1000,:]\n",
    "# y_train_res = train_res[labels].values[:-1000,:]"
   ]
  },
  {
   "cell_type": "markdown",
   "id": "67d0bad8",
   "metadata": {},
   "source": [
    "As a comparison, let's get the cross-validation score (same as above) of the `MLPClassifier` instance."
   ]
  },
  {
   "cell_type": "code",
   "execution_count": 39,
   "id": "e96f2a44",
   "metadata": {},
   "outputs": [
    {
     "name": "stdout",
     "output_type": "stream",
     "text": [
      "Cross-validation mean:  0.974153757129056\n",
      "Cross-validation variance:  0.012723503287722902\n"
     ]
    }
   ],
   "source": [
    "from sklearn.neural_network import MLPClassifier\n",
    "\n",
    "trial = MLPClassifier(hidden_layer_sizes=(4,2), random_state=42)\n",
    "trial.fit(x_train_res, y_train_res)\n",
    "y_pred_trial = trial.predict(x_test)\n",
    "print(\"Cross-validation mean: \", cross_val_score(trial, x_train_res, y_train_res, cv=5, n_jobs=-1).mean())\n",
    "print(\"Cross-validation variance: \", cross_val_score(trial, x_train_res, y_train_res, cv=5, n_jobs=-1).std())"
   ]
  },
  {
   "cell_type": "code",
   "execution_count": 18,
   "id": "b47f68a6",
   "metadata": {
    "scrolled": true
   },
   "outputs": [
    {
     "name": "stdout",
     "output_type": "stream",
     "text": [
      "Epoch 1/10\n",
      "1818/1818 [==============================] - 6s 3ms/step - loss: 0.0492 - accuracy: 0.9873 - val_loss: 4.0036e-05 - val_accuracy: 1.0000\n",
      "Epoch 2/10\n",
      "1818/1818 [==============================] - 4s 2ms/step - loss: 0.0013 - accuracy: 0.9998 - val_loss: 1.0607e-06 - val_accuracy: 1.0000\n",
      "Epoch 3/10\n",
      "1818/1818 [==============================] - 4s 2ms/step - loss: 9.1281e-04 - accuracy: 0.9998 - val_loss: 2.2297e-06 - val_accuracy: 1.0000\n",
      "Epoch 4/10\n",
      "1818/1818 [==============================] - 4s 2ms/step - loss: 4.4162e-04 - accuracy: 0.9999 - val_loss: 3.2626e-07 - val_accuracy: 1.0000\n",
      "Epoch 5/10\n",
      "1818/1818 [==============================] - 4s 2ms/step - loss: 4.3370e-04 - accuracy: 0.9998 - val_loss: 1.6606e-06 - val_accuracy: 1.0000\n",
      "Epoch 6/10\n",
      "1818/1818 [==============================] - 4s 2ms/step - loss: 1.0469e-04 - accuracy: 1.0000 - val_loss: 1.3454e-05 - val_accuracy: 1.0000\n",
      "Epoch 7/10\n",
      "1818/1818 [==============================] - 4s 2ms/step - loss: 2.4454e-04 - accuracy: 0.9999 - val_loss: 2.0203e-07 - val_accuracy: 1.0000\n",
      "Epoch 8/10\n",
      "1818/1818 [==============================] - 4s 2ms/step - loss: 2.4440e-04 - accuracy: 0.9999 - val_loss: 3.1736e-07 - val_accuracy: 1.0000\n",
      "Epoch 9/10\n",
      "1818/1818 [==============================] - 4s 2ms/step - loss: 1.6632e-04 - accuracy: 0.9999 - val_loss: 1.9206e-06 - val_accuracy: 1.0000\n",
      "Epoch 10/10\n",
      "1818/1818 [==============================] - 4s 2ms/step - loss: 1.1670e-05 - accuracy: 1.0000 - val_loss: 1.4168e-07 - val_accuracy: 1.0000\n"
     ]
    },
    {
     "data": {
      "text/plain": [
       "KerasClassifier(\n",
       "\tmodel=<function build_classifier at 0x00000229EDD9AC10>\n",
       "\tbuild_fn=None\n",
       "\twarm_start=False\n",
       "\trandom_state=None\n",
       "\toptimizer=rmsprop\n",
       "\tloss=None\n",
       "\tmetrics=None\n",
       "\tbatch_size=5\n",
       "\tvalidation_batch_size=None\n",
       "\tverbose=1\n",
       "\tcallbacks=None\n",
       "\tvalidation_split=0.0\n",
       "\tshuffle=True\n",
       "\trun_eagerly=False\n",
       "\tepochs=10\n",
       "\tclass_weight=None\n",
       ")"
      ]
     },
     "execution_count": 18,
     "metadata": {},
     "output_type": "execute_result"
    }
   ],
   "source": [
    "classifier.fit(x_train_res, y_train_res, batch_size=5, epochs=10, validation_split=0.1, verbose=0)"
   ]
  },
  {
   "cell_type": "markdown",
   "id": "23d61b4a",
   "metadata": {},
   "source": [
    "Comparing with the other classification methods:\n",
    "\n",
    "- Validation accuracy of Logistic Regression is 0.6975697569756976\n",
    "- Validation accuracy of KNN is 0.9834983498349835\n",
    "- Validation accuracy of Decision Tree is 0.9426942694269427"
   ]
  }
 ],
 "metadata": {
  "kernelspec": {
   "display_name": "Python 3 (ipykernel)",
   "language": "python",
   "name": "python3"
  },
  "language_info": {
   "codemirror_mode": {
    "name": "ipython",
    "version": 3
   },
   "file_extension": ".py",
   "mimetype": "text/x-python",
   "name": "python",
   "nbconvert_exporter": "python",
   "pygments_lexer": "ipython3",
   "version": "3.9.13"
  }
 },
 "nbformat": 4,
 "nbformat_minor": 5
}
