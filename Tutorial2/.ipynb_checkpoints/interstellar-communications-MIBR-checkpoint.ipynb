{
 "cells": [
  {
   "cell_type": "markdown",
   "metadata": {},
   "source": [
    "# Tutorial 2 - MIBR\n",
    "\n",
    "\n",
    "Derived from [Prof. Gemma Danks's](https://open-research.gemmadanks.com/) [notebook](https://open-research.gemmadanks.com/literature/search-for-interstellar-communications/) and the paper G. Cocconi and P. Morrison, \"Searching for Interstellar Communications\", *Nature*, vol. 184, pp. 844–846, 1959."
   ]
  },
  {
   "cell_type": "markdown",
   "metadata": {},
   "source": [
    "## Formulae from Cocconi & Morrison, 1959\n",
    "For a star like the quiet sun, Cocconi & Morrison calculated the minimum frequency required for a signal to be detected above background from:\n",
    "\n",
    "$$ f_{min} \\approx 10^4 \\left( { R \\over l_d } \\right) ^{0.4} Hz$$\n",
    "\n",
    "Where $l_d$ is the diameter of the detector's mirror and R is the distance to the star in metres.\n",
    "\n",
    "The authors derived this formula by equating two equations for spectral irradiance ($Wm^{-2}Hz^{-1}$) of:\n",
    "\n",
    "1. The host star at a distance $R$:\n",
    "\n",
    "$$ 10^{-15}f^2/R^2 $$  \n",
    "\n",
    "2. The (isotropic part of the) galactic background:\n",
    "\n",
    "$$ \\left(10^{-12.5}\\over f\\right)\\left(\\lambda\\over l_{d}\\right)^2 $$\n",
    "\n",
    "Substituting $c \\over f$ = $3 x 10^8 \\over f$ for $\\lambda$ and solving for $f$ gives:\n",
    "\n",
    "$$ 10^{-15}{f^2 \\over R^2} = \\left(10^{-12.5}\\over f\\right)\\left(3\\times10^8 \\over f.l_{d}\\right)^2 $$\n",
    "\n",
    "$$ {{f^2 \\over R^2}} = {{2.846 \\times 10^{19}}\\over {f^3 . {l_{d}}^2}} $$\n",
    "\n",
    "$$ {f^5} = {{2.846 \\times 10^{19}.R^2}\\over {{l_{d}}^2}} $$\n",
    "\n",
    "$$ {f} = { 7777 { \\left( {R} \\over { l_{d} } \\right) }^{2/5}} $$\n",
    "\n",
    "$$ {f} \\approx { 10^4 { \\left( {R} \\over { l_{d} } \\right) }^{0.4}} $$\n",
    "\n",
    "## This notebook\n",
    "\n",
    "Prof Danks investigated what happens to this minimum frequency for stars of other spectral types. This means substituting the luminosity of other stellar classes (different temperature and radii) for $10^{-15}$ in the first equation above.\n",
    "\n",
    "<!-- Since Cocconi & Morrison did not say where their formulae above come from, they had to do some investigation which led me to Planck's and subsequently Rayleigh-Jeans' laws of blackbody radiation, which can be used to model the radiation from a star at different frequencies. -->\n",
    "\n",
    "Our goal is to show what happens when the window of communication shifts to other broadbands, such as X-ray ($\\nu \\in (10^{16}, 10^{19}$ Hz) or gamma rays ($10^{18} - 10^{22}$ Hz).\n",
    "\n",
    "## Planck's law of blackbody radiation\n",
    "\n",
    "Planck's law gives the spectral radiance, $B_f$, (also called specific intensity) of energy emitted per second per unit area, per solid angle from a blackbody as a function of temperature and frequency. It is measured in $Wm^{−2}sr^{−1}Hz^{−1}$ (watts per square metre per steradian per hertz):\n",
    "\n",
    "$$ {B_f\\left(T\\right)} = { {{2hf^3}\\over{c^2}}{{1}\\over{e^{hf\\over\\left(k_BT\\right)} - 1}} }  $$\n",
    "\n",
    "A steradian is a unit of solid angle (one steradian projects onto a sphere an area of $r^2$ and a sphere comprises $4\\pi$ steradians since the surface area of a sphere is $4\\pi r^2$). \n",
    "\n",
    "If we integrate over all solid angles (multiply by $\\pi$) and over the whole surface area of a star (multiply by $4\\pi r^2$) we get the monochromatic luminosity (luminosity per unit wavelength or frequency), $L_f$,  measured in $WHz^{−1}$ for the whole star:\n",
    "\n",
    "$$ {L_f df} = { {{8\\pi^2 r^2 hf^3}\\over{c^2}}{{1}\\over{e^{hf\\over\\left(k_BT\\right)} - 1}} }  $$\n",
    "\n",
    "To get the flux, $F$, ($Wm^{-2}$) passing through a detector at a distance away from the star, $R$, we divide the luminosity by the area of the sphere at $R$ ($4\\pi R^2$):\n",
    "\n",
    "$$ {F_f} = { {{8\\pi^2 r^2 hf^3}\\over{4\\pi R^2c^2}}{{1}\\over{e^{hf\\over\\left(k_BT\\right)} - 1}} }  $$\n",
    "\n",
    "$$ {                    } = { {{2\\pi r^2 hf^3}\\over{R^2c^2}}{{1}\\over{e^{hf\\over\\left(k_BT\\right)} - 1}} }  $$\n",
    "\n",
    "## Rayleigh-Jeans' law of blackbody radiation\n",
    "\n",
    "For low frequencies, we can also use the simpler Rayleigh-Jeans law:\n",
    "\n",
    "$$ {B_f\\left(T\\right)} = { {{2f^2k_BT}\\over{c^2}} }  $$\n",
    "\n",
    "Integrated over all solid angles and surface area, for a star at a distance R we get the flux, $F_f$:\n",
    "\n",
    "$$ {F_f} = { {{2\\pi r^2f^2k_BT}\\over{R^2c^2}} }  $$\n"
   ]
  },
  {
   "cell_type": "markdown",
   "metadata": {},
   "source": [
    "## Import dependencies"
   ]
  },
  {
   "cell_type": "code",
   "execution_count": 1,
   "metadata": {},
   "outputs": [],
   "source": [
    "import math\n",
    "import matplotlib.pyplot as plt\n",
    "import numpy as np\n",
    "import pandas as pd\n",
    "import seaborn as sns\n",
    "\n",
    "from blackbody import (\n",
    "                       spectral_radiance_planck,\n",
    "                       spectral_radiance_rayleigh_jeans,\n",
    "                       monochromatic_luminosity_planck,\n",
    "                       monochromatic_luminosity_rayleigh_jeans,\n",
    "                       flux_from_luminosity,\n",
    "                      )\n",
    "from constants import (\n",
    "                       BOLTZMANN,\n",
    "                       LIGHT_SPEED,\n",
    "                       SUN_TEMP,\n",
    "                       SUN_RADIUS,\n",
    "                       AU\n",
    ")\n",
    "from cocconi_morrison import (\n",
    "                              luminosity_sunlike,\n",
    "                              flux_sunlike,\n",
    "                              flux_from_galaxy,\n",
    "                              frequency_minimum\n",
    "                             )\n",
    "from utils import light_years_to_metres\n",
    "\n",
    "%matplotlib inline\n",
    "plt.style.use('example')"
   ]
  },
  {
   "cell_type": "code",
   "execution_count": 2,
   "metadata": {},
   "outputs": [],
   "source": [
    "%load_ext autoreload\n",
    "%autoreload 2"
   ]
  },
  {
   "cell_type": "markdown",
   "metadata": {},
   "source": [
    "## Radiation from the Sun\n",
    "\n",
    "Use a range of frequencies from 1 Hz to 100 billion THz in log-space to compute various metrics of radiation.\n",
    "\n",
    "- Planck's law of blackbody radiation (models the Sun as a blackbody with a surface temperature of 5778 K)\n",
    "- Rayleigh-Jeans law (applies for low frequencies) (models the Sun as a blackbody with a surface temperature of 5778 K)\n",
    "- Formula from Cocconi & Morrison, 1959 (models the quiet Sun, accounting for deviations from a perfect blackbody)"
   ]
  },
  {
   "cell_type": "code",
   "execution_count": 3,
   "metadata": {},
   "outputs": [],
   "source": [
    "frequencies = np.logspace(1, 20, 10000)"
   ]
  },
  {
   "cell_type": "markdown",
   "metadata": {},
   "source": [
    "#### Spectral radiance\n",
    "\n",
    "Energy per second per unit area per solid angle."
   ]
  },
  {
   "cell_type": "code",
   "execution_count": 4,
   "metadata": {},
   "outputs": [
    {
     "name": "stderr",
     "output_type": "stream",
     "text": [
      "C:\\Users\\Marco Immanuel\\Documents\\GitHub\\Comp-Astrobio\\Tutorial2\\blackbody.py:34: RuntimeWarning: overflow encountered in exp\n",
      "  * (1 / (np.exp((PLANCK * frequency) / (BOLTZMANN * temperature))\n"
     ]
    }
   ],
   "source": [
    "sun_spectral_radiance_planck = [spectral_radiance_planck(freq, SUN_TEMP) for freq in frequencies]\n",
    "sun_spectral_radiance_rj = [spectral_radiance_rayleigh_jeans(freq, SUN_TEMP) for freq in frequencies]"
   ]
  },
  {
   "cell_type": "markdown",
   "metadata": {},
   "source": [
    "#### Monochromatic luminosity\n",
    "\n",
    "Total energy emitted at the surface of the Sun per second per Hz."
   ]
  },
  {
   "cell_type": "code",
   "execution_count": 5,
   "metadata": {},
   "outputs": [],
   "source": [
    "sun_luminosity_rj = [monochromatic_luminosity_rayleigh_jeans(freq, SUN_TEMP, SUN_RADIUS)\n",
    "                       for freq in frequencies]\n",
    "sun_luminosity_planck = [monochromatic_luminosity_planck(freq, SUN_TEMP, SUN_RADIUS)\n",
    "                   for freq in frequencies]\n",
    "sunlike_luminosity = [luminosity_sunlike(freq) for freq in frequencies]"
   ]
  },
  {
   "cell_type": "markdown",
   "metadata": {},
   "source": [
    "#### Flux\n",
    "\n",
    "Energy received per second per unit area at Earth distance."
   ]
  },
  {
   "cell_type": "code",
   "execution_count": 6,
   "metadata": {},
   "outputs": [],
   "source": [
    "sun_flux_planck = [flux_from_luminosity(monochromatic_luminosity_planck(freq, SUN_TEMP, SUN_RADIUS),\n",
    "                                        AU)\n",
    "                   for freq in frequencies]\n",
    "sun_flux_rj = [flux_from_luminosity(monochromatic_luminosity_rayleigh_jeans(freq, SUN_TEMP, SUN_RADIUS),\n",
    "                                    AU)\n",
    "               for freq in frequencies]\n",
    "large_hot_star_flux_rj = [flux_from_luminosity(monochromatic_luminosity_rayleigh_jeans(freq, SUN_TEMP*2, SUN_RADIUS*100),\n",
    "                                    AU)\n",
    "               for freq in frequencies]\n",
    "small_cool_star_flux_rj = [flux_from_luminosity(monochromatic_luminosity_rayleigh_jeans(freq, SUN_TEMP/2, SUN_RADIUS*0.01),\n",
    "                                    AU)\n",
    "               for freq in frequencies]\n",
    "sunlike_flux = [flux_sunlike(freq, AU) for freq in frequencies]"
   ]
  },
  {
   "cell_type": "markdown",
   "metadata": {},
   "source": [
    "### Flux from galaxy"
   ]
  },
  {
   "cell_type": "code",
   "execution_count": 7,
   "metadata": {},
   "outputs": [],
   "source": [
    "galactic_flux_100 = [flux_from_galaxy(freq, diameter_mirror=100) for freq in frequencies]\n",
    "galactic_flux_1000 = [flux_from_galaxy(freq, diameter_mirror=1000) for freq in frequencies]"
   ]
  },
  {
   "cell_type": "markdown",
   "metadata": {},
   "source": [
    "### Compare curves"
   ]
  },
  {
   "cell_type": "code",
   "execution_count": 8,
   "metadata": {},
   "outputs": [],
   "source": [
    "sun_df = pd.DataFrame({\"sun_spectral_radiance_planck\": sun_spectral_radiance_planck,\n",
    "                       \"sun_spectral_radiance_rj\": sun_spectral_radiance_rj,\n",
    "                       \"sunlike_luminosity\": sunlike_luminosity,\n",
    "                       \"sun_luminosity_rayleigh_jeans\": sun_luminosity_rj,\n",
    "                       \"sun_luminosity_planck\": sun_luminosity_planck,\n",
    "                       \"sun_flux_planck\": sun_flux_planck,\n",
    "                       \"sun_flux_rj\": sun_flux_rj,\n",
    "                       \"large_hot_star_flux_rj\": large_hot_star_flux_rj,\n",
    "                       \"small_cool_star_flux_rj\": small_cool_star_flux_rj,\n",
    "                       \"sunlike_flux\": sunlike_flux,\n",
    "                       \"galactic_flux_100\": galactic_flux_100,\n",
    "                       \"galactic_flux_1000\": galactic_flux_1000})\n",
    "sun_df.index = frequencies"
   ]
  },
  {
   "cell_type": "code",
   "execution_count": 9,
   "metadata": {},
   "outputs": [
    {
     "data": {
      "text/html": [
       "<div>\n",
       "<style scoped>\n",
       "    .dataframe tbody tr th:only-of-type {\n",
       "        vertical-align: middle;\n",
       "    }\n",
       "\n",
       "    .dataframe tbody tr th {\n",
       "        vertical-align: top;\n",
       "    }\n",
       "\n",
       "    .dataframe thead th {\n",
       "        text-align: right;\n",
       "    }\n",
       "</style>\n",
       "<table border=\"1\" class=\"dataframe\">\n",
       "  <thead>\n",
       "    <tr style=\"text-align: right;\">\n",
       "      <th></th>\n",
       "      <th>sun_spectral_radiance_planck</th>\n",
       "      <th>sun_spectral_radiance_rj</th>\n",
       "      <th>sunlike_luminosity</th>\n",
       "      <th>sun_luminosity_rayleigh_jeans</th>\n",
       "      <th>sun_luminosity_planck</th>\n",
       "      <th>sun_flux_planck</th>\n",
       "      <th>sun_flux_rj</th>\n",
       "      <th>large_hot_star_flux_rj</th>\n",
       "      <th>small_cool_star_flux_rj</th>\n",
       "      <th>sunlike_flux</th>\n",
       "      <th>galactic_flux_100</th>\n",
       "      <th>galactic_flux_1000</th>\n",
       "    </tr>\n",
       "  </thead>\n",
       "  <tbody>\n",
       "    <tr>\n",
       "      <th>10.000000</th>\n",
       "      <td>1.775550e-34</td>\n",
       "      <td>1.774901e-34</td>\n",
       "      <td>1.256637e-12</td>\n",
       "      <td>3.391392e-15</td>\n",
       "      <td>3.392630e-15</td>\n",
       "      <td>1.206357e-38</td>\n",
       "      <td>1.205917e-38</td>\n",
       "      <td>2.411833e-34</td>\n",
       "      <td>6.029583e-43</td>\n",
       "      <td>5.615120e-35</td>\n",
       "      <td>0.002842</td>\n",
       "      <td>0.000028</td>\n",
       "    </tr>\n",
       "    <tr>\n",
       "      <th>10.043849</th>\n",
       "      <td>1.789440e-34</td>\n",
       "      <td>1.790501e-34</td>\n",
       "      <td>1.267682e-12</td>\n",
       "      <td>3.421199e-15</td>\n",
       "      <td>3.419171e-15</td>\n",
       "      <td>1.215794e-38</td>\n",
       "      <td>1.216516e-38</td>\n",
       "      <td>2.433031e-34</td>\n",
       "      <td>6.082578e-43</td>\n",
       "      <td>5.664472e-35</td>\n",
       "      <td>0.002805</td>\n",
       "      <td>0.000028</td>\n",
       "    </tr>\n",
       "    <tr>\n",
       "      <th>10.087891</th>\n",
       "      <td>1.808274e-34</td>\n",
       "      <td>1.806238e-34</td>\n",
       "      <td>1.278824e-12</td>\n",
       "      <td>3.451268e-15</td>\n",
       "      <td>3.455158e-15</td>\n",
       "      <td>1.228591e-38</td>\n",
       "      <td>1.227208e-38</td>\n",
       "      <td>2.454415e-34</td>\n",
       "      <td>6.136038e-43</td>\n",
       "      <td>5.714257e-35</td>\n",
       "      <td>0.002768</td>\n",
       "      <td>0.000028</td>\n",
       "    </tr>\n",
       "    <tr>\n",
       "      <th>10.132126</th>\n",
       "      <td>1.822497e-34</td>\n",
       "      <td>1.822113e-34</td>\n",
       "      <td>1.290063e-12</td>\n",
       "      <td>3.481602e-15</td>\n",
       "      <td>3.482336e-15</td>\n",
       "      <td>1.238255e-38</td>\n",
       "      <td>1.237994e-38</td>\n",
       "      <td>2.475987e-34</td>\n",
       "      <td>6.189969e-43</td>\n",
       "      <td>5.764481e-35</td>\n",
       "      <td>0.002732</td>\n",
       "      <td>0.000027</td>\n",
       "    </tr>\n",
       "    <tr>\n",
       "      <th>10.176554</th>\n",
       "      <td>1.836884e-34</td>\n",
       "      <td>1.838128e-34</td>\n",
       "      <td>1.301402e-12</td>\n",
       "      <td>3.512202e-15</td>\n",
       "      <td>3.509825e-15</td>\n",
       "      <td>1.248029e-38</td>\n",
       "      <td>1.248875e-38</td>\n",
       "      <td>2.497749e-34</td>\n",
       "      <td>6.244373e-43</td>\n",
       "      <td>5.815145e-35</td>\n",
       "      <td>0.002697</td>\n",
       "      <td>0.000027</td>\n",
       "    </tr>\n",
       "  </tbody>\n",
       "</table>\n",
       "</div>"
      ],
      "text/plain": [
       "           sun_spectral_radiance_planck  sun_spectral_radiance_rj  \\\n",
       "10.000000                  1.775550e-34              1.774901e-34   \n",
       "10.043849                  1.789440e-34              1.790501e-34   \n",
       "10.087891                  1.808274e-34              1.806238e-34   \n",
       "10.132126                  1.822497e-34              1.822113e-34   \n",
       "10.176554                  1.836884e-34              1.838128e-34   \n",
       "\n",
       "           sunlike_luminosity  sun_luminosity_rayleigh_jeans  \\\n",
       "10.000000        1.256637e-12                   3.391392e-15   \n",
       "10.043849        1.267682e-12                   3.421199e-15   \n",
       "10.087891        1.278824e-12                   3.451268e-15   \n",
       "10.132126        1.290063e-12                   3.481602e-15   \n",
       "10.176554        1.301402e-12                   3.512202e-15   \n",
       "\n",
       "           sun_luminosity_planck  sun_flux_planck   sun_flux_rj  \\\n",
       "10.000000           3.392630e-15     1.206357e-38  1.205917e-38   \n",
       "10.043849           3.419171e-15     1.215794e-38  1.216516e-38   \n",
       "10.087891           3.455158e-15     1.228591e-38  1.227208e-38   \n",
       "10.132126           3.482336e-15     1.238255e-38  1.237994e-38   \n",
       "10.176554           3.509825e-15     1.248029e-38  1.248875e-38   \n",
       "\n",
       "           large_hot_star_flux_rj  small_cool_star_flux_rj  sunlike_flux  \\\n",
       "10.000000            2.411833e-34             6.029583e-43  5.615120e-35   \n",
       "10.043849            2.433031e-34             6.082578e-43  5.664472e-35   \n",
       "10.087891            2.454415e-34             6.136038e-43  5.714257e-35   \n",
       "10.132126            2.475987e-34             6.189969e-43  5.764481e-35   \n",
       "10.176554            2.497749e-34             6.244373e-43  5.815145e-35   \n",
       "\n",
       "           galactic_flux_100  galactic_flux_1000  \n",
       "10.000000           0.002842            0.000028  \n",
       "10.043849           0.002805            0.000028  \n",
       "10.087891           0.002768            0.000028  \n",
       "10.132126           0.002732            0.000027  \n",
       "10.176554           0.002697            0.000027  "
      ]
     },
     "execution_count": 9,
     "metadata": {},
     "output_type": "execute_result"
    }
   ],
   "source": [
    "sun_df.head()"
   ]
  },
  {
   "cell_type": "markdown",
   "metadata": {},
   "source": [
    "#### Spectral radiance\n",
    "\n",
    "Rayleigh-Jeans law does not fit at higher frequences, as expected."
   ]
  },
  {
   "cell_type": "code",
   "execution_count": 10,
   "metadata": {},
   "outputs": [
    {
     "data": {
      "text/plain": [
       "<AxesSubplot:>"
      ]
     },
     "execution_count": 10,
     "metadata": {},
     "output_type": "execute_result"
    },
    {
     "data": {
      "image/png": "[encoded data removed]",
      "text/plain": [
       "<Figure size 1800x1200 with 1 Axes>"
      ]
     },
     "metadata": {},
     "output_type": "display_data"
    }
   ],
   "source": [
    "sun_df[[\"sun_spectral_radiance_planck\", \"sun_spectral_radiance_rj\"]][0:1e20].plot(use_index=True, logx=True, logy=True, ylim=(1e-24, 1e-4))"
   ]
  },
  {
   "cell_type": "markdown",
   "metadata": {},
   "source": [
    "### Monochromatic luminosity"
   ]
  },
  {
   "cell_type": "code",
   "execution_count": null,
   "metadata": {},
   "outputs": [],
   "source": [
    "sun_df[[\"sun_luminosity_planck\", \"sun_luminosity_rayleigh_jeans\"]][0:1e20].plot(use_index=True, logx=True, logy=True, ylim=(1e-16, 1e16), xlabel=(r'Frequency'), ylabel=(r'Luminosity'))"
   ]
  },
  {
   "cell_type": "markdown",
   "metadata": {},
   "source": [
    "### Flux\n",
    "\n",
    "Flux for a star computed using formula from Cocconi & Morrison follows the same slope as Rayleigh-Jeans law but values are higher. \n",
    "\n",
    "The flux for the galactic background radiation has the inverse relationship to frequency. There is a point where the flux from a star equals the flux from galactic background. This gives the minimum frequency for transmission of interstellar communications since any frequency below this will be indistinguishable from the galactic background. The minimum frequency varies according to the temperature and radius of a star. \n",
    "\n",
    "- Hotter and larger stars have lower minimum frequencies (with higher flux)\n",
    "- Smaller and cooler stars have higher minimum frequencies (with lower flux)"
   ]
  },
  {
   "cell_type": "code",
   "execution_count": null,
   "metadata": {},
   "outputs": [],
   "source": [
    "sun_df[[\"sunlike_flux\", \"sun_flux_planck\",\n",
    "        \"sun_flux_rj\", \"large_hot_star_flux_rj\",\n",
    "        \"small_cool_star_flux_rj\",\n",
    "        \"galactic_flux_100\", \"galactic_flux_1000\"]][1e-2:1e18].plot(use_index=True, logx=True, logy=True, ylim=(1e-28, 1e-10), xlim=(3e4, 3e15))"
   ]
  },
  {
   "cell_type": "markdown",
   "metadata": {},
   "source": [
    "### Difference between Rayleigh-Jeans and Cocconi-Morrison\n",
    "\n",
    "The flux is ~370 times higher using Cocconi & Morrison's formula.\n",
    "\n",
    "If using the Rayleigh-Jeans law the formula would be:\n",
    "\n",
    "$$ 2.6987 \\times 10^{-18}f^2/R^2 $$  \n",
    "\n",
    "The Cocconi & Morrison's formula is:\n",
    "\n",
    "$$ 10^{-15}f^2/R^2 $$  \n",
    "\n",
    "In their paper Cocconi & Morrison state their formula is based on the 'quiet Sun', not a blackbody. The Sun deviates from a blackbody at lower frequencies: there is a higher radiance that creates a bulge in the curve at approximately this order of magnitude.\n",
    "\n",
    "### Varying star types\n",
    "To compute the proportionality factor for minimum frequency for different star types in the formula we use:\n",
    "$$ \\left({c^4 10^{-12.5}}\\over{2\\pi k_B r^2T}\\right)^{0.2} $$\n",
    "\n",
    "$$ 5\\times 10^8\\over{\\left({r^2T}\\right)^{0.2}} $$\n",
    "\n",
    "Where r is the radius of the star and T is the temperature of the star. The higher the temperature or the larger the radius, the lower the minimum frequency.\n"
   ]
  },
  {
   "cell_type": "code",
   "execution_count": null,
   "metadata": {},
   "outputs": [],
   "source": [
    "def constant_for_flux_calc(solar_radii, temperature):\n",
    "    \"\"\"Constant used to compute flux from Rayleigh-Jeans law given temperature and radius of a star.\n",
    "    \n",
    "    Used to multiply f^2/R^2 (where f is frequency and R is distance to a star)\n",
    "    \n",
    "    Args:\n",
    "        solar_radii: radius of star (solar radii)\n",
    "        temperature: temperature of star (Kelvin)\n",
    "    Returns:\n",
    "        Factor used to calculate flux\n",
    "    \"\"\"\n",
    "    return (2 * math.pi * pow(solar_radii * SUN_RADIUS, 2) * BOLTZMANN * temperature) / pow(LIGHT_SPEED, 2)"
   ]
  },
  {
   "cell_type": "code",
   "execution_count": null,
   "metadata": {},
   "outputs": [],
   "source": [
    "constant_for_flux_calc(1000, SUN_TEMP)"
   ]
  },
  {
   "cell_type": "code",
   "execution_count": null,
   "metadata": {},
   "outputs": [],
   "source": [
    "constant_cocconi_morrison = 1e-15\n",
    "quiet_sun_factor = constant_cocconi_morrison / constant_for_flux_calc(1, SUN_TEMP)\n",
    "#quiet_sun_factor = 1\n",
    "quiet_sun_factor"
   ]
  },
  {
   "cell_type": "markdown",
   "metadata": {},
   "source": [
    "### Constant for different types of stars\n",
    "Vary the radius and temperature"
   ]
  },
  {
   "cell_type": "code",
   "execution_count": null,
   "metadata": {},
   "outputs": [],
   "source": [
    "radii = np.logspace(-2, np.log10(2000), 100) # log10 solar radii\n",
    "temperatures = np.linspace(2000, 50000, 1000)\n",
    "stellar_constants = pd.DataFrame(constant_for_flux_calc(radii[:, None], \n",
    "                                                        temperatures) * quiet_sun_factor,\n",
    "                                 index = np.around(radii, 2),\n",
    "                                 columns=np.around(temperatures,0))"
   ]
  },
  {
   "cell_type": "code",
   "execution_count": null,
   "metadata": {},
   "outputs": [],
   "source": []
  },
  {
   "cell_type": "code",
   "execution_count": null,
   "metadata": {},
   "outputs": [],
   "source": [
    "np.log10(stellar_constants)[::-1]"
   ]
  },
  {
   "cell_type": "code",
   "execution_count": null,
   "metadata": {},
   "outputs": [],
   "source": [
    "sns.heatmap(np.log10(stellar_constants)[::-1])"
   ]
  },
  {
   "cell_type": "markdown",
   "metadata": {},
   "source": [
    "## Minimum frequency for different stars\n",
    "\n",
    "Varying distances from Earth\n",
    "\n",
    "### Minimum frequencies detectable at Earth's surface\n",
    "The radio window for Earth puts a lower limit of 15 MHz ($1.5 \\times 10^7$) and an upper limit of 1 THz ($1 \\times 10^{12}$) for the frequency that can pass through Earth's atmosphere and reach detectors on the surface.\n"
   ]
  },
  {
   "cell_type": "code",
   "execution_count": null,
   "metadata": {},
   "outputs": [],
   "source": [
    "def constant_for_min_frequency(constant_for_flux):\n",
    "    return pow((pow(3e8, 2) * pow(10, -12.5))/constant_for_flux, 0.2)"
   ]
  },
  {
   "cell_type": "code",
   "execution_count": null,
   "metadata": {},
   "outputs": [],
   "source": [
    "constant_for_min_frequency(1e-15)"
   ]
  },
  {
   "cell_type": "code",
   "execution_count": null,
   "metadata": {},
   "outputs": [],
   "source": [
    "min_freq_constants = constant_for_min_frequency(stellar_constants)"
   ]
  },
  {
   "cell_type": "code",
   "execution_count": null,
   "metadata": {},
   "outputs": [],
   "source": [
    "sns.heatmap(np.log10(min_freq_constants)[::-1])"
   ]
  },
  {
   "cell_type": "markdown",
   "metadata": {},
   "source": [
    "### 10000 m2 detector\n",
    "\n",
    "Current capabilities"
   ]
  },
  {
   "cell_type": "code",
   "execution_count": null,
   "metadata": {},
   "outputs": [],
   "source": [
    "diameter_detector=100\n",
    "freq_min = 7\n",
    "freq_max = 12\n",
    "\n",
    "fig, (ax1, ax2, ax3, ax4, axcb) = plt.subplots(1, 5, \n",
    "                                               gridspec_kw={'width_ratios':[1,1,1,1,0.08]})\n",
    "ax1.get_shared_y_axes().join(ax2, ax3, ax4)\n",
    "\n",
    "\n",
    "## 10 light years\n",
    "g1 = sns.heatmap(np.log10(frequency_minimum(light_years_to_star=10,\n",
    "                                            diameter_detector=diameter_detector,\n",
    "                                            constant=min_freq_constants)).T[::-1],\n",
    "                 ax=ax1, vmin=freq_min, vmax=freq_max, cbar=False, cmap=\"Spectral\")\n",
    "g1.set_title('10 ly')\n",
    "g1.set_ylabel('Temperature (Kelvin)')\n",
    "g1.set_xlabel('Solar radii')\n",
    "\n",
    "## 100 light years\n",
    "g2 = sns.heatmap(np.log10(frequency_minimum(light_years_to_star=100,\n",
    "                                            diameter_detector=diameter_detector,\n",
    "                                            constant=min_freq_constants)).T[::-1],\n",
    "                 ax=ax2, vmin=freq_min, vmax=freq_max, cbar_ax=axcb, cmap=\"Spectral\")\n",
    "g2.set_title('100 ly')\n",
    "g2.set_yticks([])\n",
    "\n",
    "## 1000 light years\n",
    "g3 = sns.heatmap(np.log10(frequency_minimum(light_years_to_star=1000,\n",
    "                                            diameter_detector=diameter_detector,\n",
    "                                            constant=min_freq_constants)).T[::-1],\n",
    "                 ax=ax3, vmin=freq_min, vmax=freq_max, cbar_ax=axcb, cmap=\"Spectral\",\n",
    "                 cbar_kws={'label': 'Minimum frequency (log10 Hz)'})\n",
    "g3.set_title('1000 ly')\n",
    "g3.set_yticks([])\n",
    "\n",
    "## 1500 light years\n",
    "g4 = sns.heatmap(np.log10(frequency_minimum(light_years_to_star=1500,\n",
    "                                            diameter_detector=diameter_detector,\n",
    "                                            constant=min_freq_constants)).T[::-1],\n",
    "                 ax=ax4, vmin=freq_min, vmax=freq_max, cbar_ax=axcb, cmap=\"Spectral\",\n",
    "                 cbar_kws={'label': 'Minimum frequency (log10 Hz)'})\n",
    "g4.set_title('1500 ly')\n",
    "g4.set_yticks([])\n",
    "\n",
    "fig.set_figheight(5)\n",
    "fig.set_figwidth(25)\n",
    "plt.show()"
   ]
  },
  {
   "cell_type": "markdown",
   "metadata": {},
   "source": [
    "### 1 km2 detector\n",
    "Near future capabilities (SKA)"
   ]
  },
  {
   "cell_type": "code",
   "execution_count": null,
   "metadata": {},
   "outputs": [],
   "source": [
    "diameter_detector=1000\n",
    "freq_min = 7\n",
    "freq_max = 12\n",
    "\n",
    "fig, (ax1, ax2, ax3, ax4, axcb) = plt.subplots(1, 5, \n",
    "                                               gridspec_kw={'width_ratios':[1,1,1,1,0.08]})\n",
    "ax1.get_shared_y_axes().join(ax2, ax3, ax4)\n",
    "\n",
    "## 10 light years\n",
    "g1 = sns.heatmap(np.log10(frequency_minimum(light_years_to_star=10,\n",
    "                                            diameter_detector=diameter_detector,\n",
    "                                            constant=min_freq_constants)).T[::-1],\n",
    "                 ax=ax1, vmin=freq_min, vmax=freq_max, cbar=False, cmap=\"Spectral\")\n",
    "g1.set_title('10 ly')\n",
    "g1.set_ylabel('Temperature (Kelvin)')\n",
    "g1.set_xlabel('Solar radii')\n",
    "\n",
    "## 100 light years\n",
    "g2 = sns.heatmap(np.log10(frequency_minimum(light_years_to_star=100,\n",
    "                                            diameter_detector=diameter_detector,\n",
    "                                            constant=min_freq_constants)).T[::-1],\n",
    "                 ax=ax2, vmin=freq_min, vmax=freq_max, cbar_ax=axcb, cmap=\"Spectral\")\n",
    "g2.set_title('100 ly')\n",
    "g2.set_yticks([])\n",
    "\n",
    "## 1000 light years\n",
    "g3 = sns.heatmap(np.log10(frequency_minimum(light_years_to_star=1000,\n",
    "                                            diameter_detector=diameter_detector,\n",
    "                                            constant=min_freq_constants)).T[::-1],\n",
    "                 ax=ax3, vmin=freq_min, vmax=freq_max, cbar_ax=axcb, cmap=\"Spectral\",\n",
    "                 cbar_kws={'label': 'Minimum frequency (log10 Hz)'})\n",
    "g3.set_title('1000 ly')\n",
    "g3.set_yticks([])\n",
    "\n",
    "\n",
    "## 1500 light years\n",
    "g4 = sns.heatmap(np.log10(frequency_minimum(light_years_to_star=1500,\n",
    "                                            diameter_detector=diameter_detector,\n",
    "                                            constant=min_freq_constants)).T[::-1],\n",
    "                 ax=ax4, vmin=freq_min, vmax=freq_max, cbar_ax=axcb, cmap=\"Spectral\",\n",
    "                 cbar_kws={'label': 'Minimum frequency (log10 Hz)'})\n",
    "g4.set_title('1500 ly')\n",
    "g4.set_yticks([])\n",
    "\n",
    "fig.set_figheight(5)\n",
    "fig.set_figwidth(25)\n",
    "plt.show()"
   ]
  },
  {
   "cell_type": "markdown",
   "metadata": {},
   "source": [
    "## Individual stars of interest\n",
    "\n",
    "### Tabby's star\n"
   ]
  },
  {
   "cell_type": "code",
   "execution_count": null,
   "metadata": {},
   "outputs": [],
   "source": [
    "tabby_distance = 1447\n",
    "tabby_temp = 6750\n",
    "tabby_radius = 1.58\n",
    "\n",
    "tabby_min_freq = np.log10(frequency_minimum(light_years_to_star=tabby_distance,\n",
    "                          diameter_detector=100,\n",
    "                          constant=constant_for_min_frequency(constant_for_flux_calc(tabby_radius, tabby_temp) \n",
    "                                                              * quiet_sun_factor)))\n",
    "\n",
    "print(f\"Minimum frequency for Tabby's star with 100m diameter detector = {round(tabby_min_freq, 2)}\")\n",
    "\n",
    "sun_df[\"tabby_flux_rj\"] = [flux_from_luminosity(monochromatic_luminosity_rayleigh_jeans(freq, tabby_temp, tabby_radius * SUN_RADIUS),\n",
    "                                                light_years_to_metres(tabby_distance)) * quiet_sun_factor\n",
    "                           for freq in frequencies]\n",
    "\n",
    "sun_df[[\"sunlike_flux\", \"sun_flux_planck\",\n",
    "        \"sun_flux_rj\",\n",
    "        \"tabby_flux_rj\",\n",
    "        \"galactic_flux_100\",\n",
    "        \"galactic_flux_1000\" ]][1e-2:1e18].plot(use_index=True, logx=True, logy=True, ylim=(1e-45, 1e-10), xlim=(3e4, 3e15))\n",
    "plt.plot()"
   ]
  },
  {
   "cell_type": "markdown",
   "metadata": {},
   "source": [
    "## Summary"
   ]
  },
  {
   "cell_type": "markdown",
   "metadata": {},
   "source": [
    "The minimum frequency required for us to detect a message above background radiation is inversely proportional to the radius and temperature of the host star:\n",
    "\n",
    "$${f_{min}} \\propto {{1}\\over{r^{0.4}T^{0.2}}} $$\n",
    "\n",
    "A message sent from a planet orbiting a smaller star will need a higher minimum frequency. \n",
    "\n",
    "The frequency increases further with increasing distance from Earth and decreases with the size of our detector. \n",
    "\n",
    "All minimum frequencies fall within the window that can pass through Earth's atmosphere."
   ]
  },
  {
   "cell_type": "code",
   "execution_count": null,
   "metadata": {},
   "outputs": [],
   "source": []
  }
 ],
 "metadata": {
  "kernelspec": {
   "display_name": "Python 3 (ipykernel)",
   "language": "python",
   "name": "python3"
  },
  "language_info": {
   "codemirror_mode": {
    "name": "ipython",
    "version": 3
   },
   "file_extension": ".py",
   "mimetype": "text/x-python",
   "name": "python",
   "nbconvert_exporter": "python",
   "pygments_lexer": "ipython3",
   "version": "3.9.13"
  },
  "vscode": {
   "interpreter": {
    "hash": "69925033358ecb124b44f5fa87d21f173b62a3cfecf325f7796540aeacd56c7a"
   }
  }
 },
 "nbformat": 4,
 "nbformat_minor": 4
}
